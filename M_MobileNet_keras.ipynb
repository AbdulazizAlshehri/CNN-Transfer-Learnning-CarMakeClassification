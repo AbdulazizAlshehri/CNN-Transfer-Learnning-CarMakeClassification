{
 "cells": [
  {
   "cell_type": "markdown",
   "id": "48c1a384",
   "metadata": {},
   "source": [
    "# <center>Car Maker Classification (MobileNet Keras)</center>"
   ]
  },
  {
   "cell_type": "code",
   "execution_count": 11,
   "id": "8a6b64f5",
   "metadata": {},
   "outputs": [],
   "source": [
    "import numpy as np\n",
    "import tensorflow as tf\n",
    "from tensorflow import keras\n",
    "from tensorflow.keras.layers import Dense, Activation\n",
    "from tensorflow.keras.optimizers import Adam\n",
    "from tensorflow.keras.metrics import categorical_crossentropy\n",
    "from tensorflow.keras.preprocessing.image import ImageDataGenerator\n",
    "from tensorflow.keras.preprocessing import image\n",
    "from tensorflow.keras.models import Model\n",
    "from tensorflow.keras.applications import imagenet_utils\n",
    "from sklearn.metrics import confusion_matrix\n",
    "import itertools\n",
    "import os\n",
    "import shutil\n",
    "import random\n",
    "import matplotlib.pyplot as plt\n",
    "%matplotlib inline"
   ]
  },
  {
   "cell_type": "code",
   "execution_count": 16,
   "id": "6e52411a",
   "metadata": {
    "scrolled": true
   },
   "outputs": [
    {
     "data": {
      "text/plain": [
       "'2.7.0'"
      ]
     },
     "execution_count": 16,
     "metadata": {},
     "output_type": "execute_result"
    }
   ],
   "source": [
    "keras.__version__"
   ]
  },
  {
   "cell_type": "markdown",
   "id": "a47471a2",
   "metadata": {},
   "source": [
    "## Run on GPU"
   ]
  },
  {
   "cell_type": "code",
   "execution_count": 3,
   "id": "e7622348",
   "metadata": {},
   "outputs": [],
   "source": [
    "# physical_devices = tf.config.experimental.list_physical_devices('GPU')\n",
    "# print(\"Num GPUs Available: \", len(physical_devices))\n",
    "# tf.config.experimental.set_memory_growth(physical_devices[0], True)"
   ]
  },
  {
   "cell_type": "markdown",
   "id": "d572d50f",
   "metadata": {},
   "source": [
    "## Preparing images"
   ]
  },
  {
   "cell_type": "code",
   "execution_count": 10,
   "id": "901d49cd",
   "metadata": {},
   "outputs": [
    {
     "name": "stdout",
     "output_type": "stream",
     "text": [
      "Found 9791 images belonging to 196 classes.\n",
      "Found 3312 images belonging to 196 classes.\n",
      "Found 3082 images belonging to 196 classes.\n"
     ]
    }
   ],
   "source": [
    "train_path = 'dataset/train_spl'\n",
    "valid_path = 'dataset/val_spl'\n",
    "test_path = 'dataset/test_spl'\n",
    "\n",
    "train_batches = ImageDataGenerator(preprocessing_function=tf.keras.applications.mobilenet.preprocess_input).flow_from_directory(\n",
    "    directory=train_path, target_size=(224,224), batch_size=10)\n",
    "valid_batches = ImageDataGenerator(preprocessing_function=tf.keras.applications.mobilenet.preprocess_input).flow_from_directory(\n",
    "    directory=valid_path, target_size=(224,224), batch_size=10)\n",
    "test_batches = ImageDataGenerator(preprocessing_function=tf.keras.applications.mobilenet.preprocess_input).flow_from_directory(\n",
    "    directory=test_path, target_size=(224,224), batch_size=10, shuffle=False)"
   ]
  },
  {
   "cell_type": "markdown",
   "id": "3e187842",
   "metadata": {},
   "source": [
    "## Choosing Model"
   ]
  },
  {
   "cell_type": "code",
   "execution_count": 14,
   "id": "8af03ac8",
   "metadata": {},
   "outputs": [],
   "source": [
    "model_original = tf.keras.applications.mobilenet.MobileNet()"
   ]
  },
  {
   "cell_type": "code",
   "execution_count": 7,
   "id": "586b5af2",
   "metadata": {},
   "outputs": [],
   "source": [
    "# model_original.summary() # to show all models layers"
   ]
  },
  {
   "cell_type": "code",
   "execution_count": 14,
   "id": "d3bb7d00",
   "metadata": {},
   "outputs": [],
   "source": [
    "# taking all layers except last 6 layers\n",
    "x = model_original.layers[-6].output\n",
    "output = Dense(units=196, activation='softmax')(x)"
   ]
  },
  {
   "cell_type": "code",
   "execution_count": 15,
   "id": "a1fa82e8",
   "metadata": {},
   "outputs": [],
   "source": [
    "model = Model(inputs=model_original.input, outputs=output)"
   ]
  },
  {
   "cell_type": "code",
   "execution_count": 16,
   "id": "18b75752",
   "metadata": {},
   "outputs": [],
   "source": [
    "# freezing last n layers (n is an arbitrary number)\n",
    "for layer in model.layers[:-23]:\n",
    "    layer.trainable = False"
   ]
  },
  {
   "cell_type": "code",
   "execution_count": 8,
   "id": "970f513f",
   "metadata": {},
   "outputs": [],
   "source": [
    "# model.summary() # to show all models layers"
   ]
  },
  {
   "cell_type": "markdown",
   "id": "f3f56fd1",
   "metadata": {},
   "source": [
    "## Training Model"
   ]
  },
  {
   "cell_type": "code",
   "execution_count": 18,
   "id": "a9642e40",
   "metadata": {},
   "outputs": [],
   "source": [
    "model.compile(optimizer=Adam(learning_rate=0.0001), loss='categorical_crossentropy', metrics=['accuracy'])"
   ]
  },
  {
   "cell_type": "code",
   "execution_count": null,
   "id": "ac0c8630",
   "metadata": {},
   "outputs": [],
   "source": [
    "# makeing checkpoint each epoch\n",
    "checkpoint = ModelCheckpoint(\"M_MobileNet_checkpoints/M_MobileNet_checkpoint.hdf5\", monitor='loss', verbose=0,\n",
    "    save_best_only=False, mode='auto', save_freq=1)"
   ]
  },
  {
   "cell_type": "code",
   "execution_count": 19,
   "id": "8ea51201",
   "metadata": {
    "scrolled": true
   },
   "outputs": [
    {
     "name": "stdout",
     "output_type": "stream",
     "text": [
      "Epoch 1/30\n",
      "980/980 - 260s - loss: 4.2605 - accuracy: 0.1514 - val_loss: 3.0160 - val_accuracy: 0.3493\n",
      "Epoch 2/30\n",
      "980/980 - 263s - loss: 2.1725 - accuracy: 0.5848 - val_loss: 1.9574 - val_accuracy: 0.5655\n",
      "Epoch 3/30\n",
      "980/980 - 257s - loss: 1.2379 - accuracy: 0.7946 - val_loss: 1.5008 - val_accuracy: 0.6540\n",
      "Epoch 4/30\n",
      "980/980 - 253s - loss: 0.7565 - accuracy: 0.8966 - val_loss: 1.2561 - val_accuracy: 0.7020\n",
      "Epoch 5/30\n",
      "980/980 - 253s - loss: 0.4570 - accuracy: 0.9543 - val_loss: 1.1081 - val_accuracy: 0.7228\n",
      "Epoch 6/30\n",
      "980/980 - 253s - loss: 0.2867 - accuracy: 0.9809 - val_loss: 1.0414 - val_accuracy: 0.7322\n",
      "Epoch 7/30\n",
      "980/980 - 253s - loss: 0.1723 - accuracy: 0.9929 - val_loss: 0.9763 - val_accuracy: 0.7470\n",
      "Epoch 8/30\n",
      "980/980 - 253s - loss: 0.1201 - accuracy: 0.9945 - val_loss: 0.9667 - val_accuracy: 0.7461\n",
      "Epoch 9/30\n",
      "980/980 - 254s - loss: 0.0899 - accuracy: 0.9949 - val_loss: 0.9172 - val_accuracy: 0.7639\n",
      "Epoch 10/30\n",
      "980/980 - 256s - loss: 0.0681 - accuracy: 0.9955 - val_loss: 0.9179 - val_accuracy: 0.7582\n",
      "Epoch 11/30\n",
      "980/980 - 254s - loss: 0.0562 - accuracy: 0.9961 - val_loss: 0.9047 - val_accuracy: 0.7588\n",
      "Epoch 12/30\n",
      "980/980 - 260s - loss: 0.0480 - accuracy: 0.9955 - val_loss: 0.8817 - val_accuracy: 0.7675\n",
      "Epoch 13/30\n",
      "980/980 - 256s - loss: 0.0442 - accuracy: 0.9959 - val_loss: 0.9162 - val_accuracy: 0.7533\n",
      "Epoch 14/30\n",
      "980/980 - 254s - loss: 0.0373 - accuracy: 0.9959 - val_loss: 1.0265 - val_accuracy: 0.7316\n",
      "Epoch 15/30\n",
      "980/980 - 255s - loss: 0.0347 - accuracy: 0.9964 - val_loss: 0.9372 - val_accuracy: 0.7518\n",
      "Epoch 16/30\n",
      "980/980 - 254s - loss: 0.0291 - accuracy: 0.9967 - val_loss: 0.8424 - val_accuracy: 0.7763\n",
      "Epoch 17/30\n",
      "980/980 - 254s - loss: 0.0292 - accuracy: 0.9959 - val_loss: 0.8628 - val_accuracy: 0.7729\n",
      "Epoch 18/30\n",
      "980/980 - 255s - loss: 0.0256 - accuracy: 0.9962 - val_loss: 0.9028 - val_accuracy: 0.7699\n",
      "Epoch 19/30\n",
      "980/980 - 254s - loss: 0.0265 - accuracy: 0.9961 - val_loss: 0.8363 - val_accuracy: 0.7778\n",
      "Epoch 20/30\n",
      "980/980 - 254s - loss: 0.0185 - accuracy: 0.9972 - val_loss: 0.8701 - val_accuracy: 0.7732\n",
      "Epoch 21/30\n",
      "980/980 - 254s - loss: 0.0223 - accuracy: 0.9966 - val_loss: 0.8188 - val_accuracy: 0.7899\n",
      "Epoch 22/30\n",
      "980/980 - 255s - loss: 0.0207 - accuracy: 0.9966 - val_loss: 0.8510 - val_accuracy: 0.7793\n",
      "Epoch 23/30\n",
      "980/980 - 255s - loss: 0.0173 - accuracy: 0.9972 - val_loss: 0.8042 - val_accuracy: 0.7886\n",
      "Epoch 24/30\n",
      "980/980 - 255s - loss: 0.0191 - accuracy: 0.9960 - val_loss: 0.8539 - val_accuracy: 0.7799\n",
      "Epoch 25/30\n",
      "980/980 - 255s - loss: 0.0179 - accuracy: 0.9962 - val_loss: 0.8521 - val_accuracy: 0.7760\n",
      "Epoch 26/30\n",
      "980/980 - 255s - loss: 0.0151 - accuracy: 0.9971 - val_loss: 0.8477 - val_accuracy: 0.7766\n",
      "Epoch 27/30\n",
      "980/980 - 264s - loss: 0.0143 - accuracy: 0.9974 - val_loss: 0.8383 - val_accuracy: 0.7850\n",
      "Epoch 28/30\n",
      "980/980 - 281s - loss: 0.0145 - accuracy: 0.9968 - val_loss: 0.8369 - val_accuracy: 0.7841\n",
      "Epoch 29/30\n",
      "980/980 - 278s - loss: 0.0126 - accuracy: 0.9970 - val_loss: 0.8011 - val_accuracy: 0.7965\n",
      "Epoch 30/30\n",
      "980/980 - 289s - loss: 0.0113 - accuracy: 0.9974 - val_loss: 0.8647 - val_accuracy: 0.7808\n"
     ]
    },
    {
     "data": {
      "text/plain": [
       "<tensorflow.python.keras.callbacks.History at 0x1391dde3e20>"
      ]
     },
     "execution_count": 19,
     "metadata": {},
     "output_type": "execute_result"
    }
   ],
   "source": [
    "model.fit(x=train_batches,\n",
    "            steps_per_epoch=len(train_batches),\n",
    "            validation_data=valid_batches,\n",
    "            validation_steps=len(valid_batches),\n",
    "            epochs=30,\n",
    "            verbose=2,\n",
    "            callbacks=[checkpoint]\n",
    ")"
   ]
  },
  {
   "cell_type": "markdown",
   "id": "54c38a91",
   "metadata": {},
   "source": [
    "## Saving Model"
   ]
  },
  {
   "cell_type": "code",
   "execution_count": 28,
   "id": "b455af4b",
   "metadata": {},
   "outputs": [],
   "source": [
    "model.save(\"M_MobileNet.h5\")"
   ]
  },
  {
   "cell_type": "markdown",
   "id": "4e856287",
   "metadata": {},
   "source": [
    "## Result Visualization"
   ]
  },
  {
   "cell_type": "code",
   "execution_count": 20,
   "id": "7a2bbf1e",
   "metadata": {},
   "outputs": [],
   "source": [
    "test_labels = test_batches.classes"
   ]
  },
  {
   "cell_type": "code",
   "execution_count": 21,
   "id": "37426840",
   "metadata": {},
   "outputs": [],
   "source": [
    "predictions = model.predict(x=test_batches, steps=len(test_batches), verbose=0)"
   ]
  },
  {
   "cell_type": "code",
   "execution_count": 4,
   "id": "98a4f5a9",
   "metadata": {},
   "outputs": [],
   "source": [
    "# def plot_confusion_matrix(cm, classes,\n",
    "#                           normalize=False,\n",
    "#                           title='Confusion matrix',\n",
    "#                           cmap=plt.cm.Blues):\n",
    "#     \"\"\"\n",
    "#     This function prints and plots the confusion matrix.\n",
    "#     Normalization can be applied by setting `normalize=True`.\n",
    "#     \"\"\"\n",
    "#     plt.rcParams[\"figure.figsize\"] = (12,12)\n",
    "#     plt.imshow(cm, interpolation='nearest', cmap=cmap)\n",
    "#     plt.title(title)\n",
    "#     plt.colorbar()\n",
    "#     tick_marks = np.arange(len(classes))\n",
    "#     plt.xticks(tick_marks, classes, rotation=45)\n",
    "#     plt.yticks(tick_marks, classes)\n",
    "\n",
    "#     if normalize:\n",
    "#         cm = cm.astype('float') / cm.sum(axis=1)[:, np.newaxis]\n",
    "#         print(\"Normalized confusion matrix\")\n",
    "#     else:\n",
    "#         print('Confusion matrix, without normalization')\n",
    "\n",
    "#     print(cm)\n",
    "\n",
    "#     thresh = cm.max() / 2.\n",
    "#     for i, j in itertools.product(range(cm.shape[0]), range(cm.shape[1])):\n",
    "#         plt.text(j, i, cm[i, j],\n",
    "#             horizontalalignment=\"center\",\n",
    "#             color=\"white\" if cm[i, j] > thresh else \"black\")"
   ]
  },
  {
   "cell_type": "code",
   "execution_count": 3,
   "id": "2049092e",
   "metadata": {},
   "outputs": [],
   "source": [
    "# cm = confusion_matrix(y_true=test_labels, y_pred=predictions.argmax(axis=1))"
   ]
  },
  {
   "cell_type": "code",
   "execution_count": 2,
   "id": "23b15ba4",
   "metadata": {},
   "outputs": [],
   "source": [
    "# test_batches.class_indices"
   ]
  },
  {
   "cell_type": "code",
   "execution_count": 1,
   "id": "a30a22e9",
   "metadata": {},
   "outputs": [],
   "source": [
    "# cm_plot_labels = list(range(0, 196))\n",
    "# plot_confusion_matrix(cm=cm, classes=cm_plot_labels, title='Confusion Matrix')"
   ]
  }
 ],
 "metadata": {
  "kernelspec": {
   "display_name": "Python 3",
   "language": "python",
   "name": "python3"
  },
  "language_info": {
   "codemirror_mode": {
    "name": "ipython",
    "version": 3
   },
   "file_extension": ".py",
   "mimetype": "text/x-python",
   "name": "python",
   "nbconvert_exporter": "python",
   "pygments_lexer": "ipython3",
   "version": "3.8.8"
  }
 },
 "nbformat": 4,
 "nbformat_minor": 5
}
