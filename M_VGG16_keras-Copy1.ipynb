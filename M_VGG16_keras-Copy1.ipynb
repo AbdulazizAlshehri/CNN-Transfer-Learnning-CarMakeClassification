{
 "cells": [
  {
   "cell_type": "markdown",
   "id": "48c1a384",
   "metadata": {},
   "source": [
    "# <center>Car Maker Classification (VGG16 Keras)</center>"
   ]
  },
  {
   "cell_type": "code",
   "execution_count": 1,
   "id": "8a6b64f5",
   "metadata": {},
   "outputs": [],
   "source": [
    "import numpy as np\n",
    "import tensorflow as tf\n",
    "from tensorflow import keras\n",
    "from tensorflow.keras.layers import Dense, Activation\n",
    "from tensorflow.keras.optimizers import Adam\n",
    "from tensorflow.keras.metrics import categorical_crossentropy\n",
    "from tensorflow.keras.preprocessing.image import ImageDataGenerator\n",
    "from tensorflow.keras.preprocessing import image\n",
    "from tensorflow.keras.models import Model\n",
    "from tensorflow.keras.applications import imagenet_utils\n",
    "from sklearn.metrics import confusion_matrix\n",
    "import itertools\n",
    "import os\n",
    "import shutil\n",
    "import random\n",
    "import matplotlib.pyplot as plt\n",
    "%matplotlib inline\n",
    "\n",
    "from tensorflow.keras.callbacks import ModelCheckpoint"
   ]
  },
  {
   "cell_type": "code",
   "execution_count": 2,
   "id": "6e52411a",
   "metadata": {
    "scrolled": true
   },
   "outputs": [
    {
     "data": {
      "text/plain": [
       "'2.2.4-tf'"
      ]
     },
     "execution_count": 2,
     "metadata": {},
     "output_type": "execute_result"
    }
   ],
   "source": [
    "keras.__version__"
   ]
  },
  {
   "cell_type": "markdown",
   "id": "a73c87da",
   "metadata": {},
   "source": [
    "## Run on GPU"
   ]
  },
  {
   "cell_type": "code",
   "execution_count": 3,
   "id": "e7622348",
   "metadata": {},
   "outputs": [
    {
     "name": "stdout",
     "output_type": "stream",
     "text": [
      "Num GPUs Available:  1\n"
     ]
    }
   ],
   "source": [
    "physical_devices = tf.config.experimental.list_physical_devices('GPU')\n",
    "print(\"Num GPUs Available: \", len(physical_devices))\n",
    "tf.config.experimental.set_memory_growth(physical_devices[0], True)"
   ]
  },
  {
   "cell_type": "markdown",
   "id": "3450bd6b",
   "metadata": {},
   "source": [
    "## Preparing images"
   ]
  },
  {
   "cell_type": "code",
   "execution_count": 4,
   "id": "901d49cd",
   "metadata": {},
   "outputs": [
    {
     "name": "stdout",
     "output_type": "stream",
     "text": [
      "Found 9791 images belonging to 196 classes.\n",
      "Found 3312 images belonging to 196 classes.\n",
      "Found 3082 images belonging to 196 classes.\n"
     ]
    }
   ],
   "source": [
    "train_path = '../dataset/train_spl'\n",
    "valid_path = '../dataset/val_spl'\n",
    "test_path = '../dataset/test_spl'\n",
    "\n",
    "train_batches = ImageDataGenerator(preprocessing_function=tf.keras.applications.vgg16.preprocess_input).flow_from_directory(\n",
    "    directory=train_path, target_size=(224,224), batch_size=5)\n",
    "valid_batches = ImageDataGenerator(preprocessing_function=tf.keras.applications.vgg16.preprocess_input).flow_from_directory(\n",
    "    directory=valid_path, target_size=(224,224), batch_size=5)\n",
    "test_batches = ImageDataGenerator(preprocessing_function=tf.keras.applications.vgg16.preprocess_input).flow_from_directory(\n",
    "    directory=test_path, target_size=(224,224), batch_size=5, shuffle=False)"
   ]
  },
  {
   "cell_type": "markdown",
   "id": "ca6fc965",
   "metadata": {},
   "source": [
    "## Choosing Model"
   ]
  },
  {
   "cell_type": "code",
   "execution_count": 5,
   "id": "8af03ac8",
   "metadata": {},
   "outputs": [],
   "source": [
    "new_input = tf.keras.Input(shape=(224, 224, 3))\n",
    "model_original = tf.keras.applications.vgg16.VGG16(weights='imagenet',include_top=False,input_shape=(224,224,3))"
   ]
  },
  {
   "cell_type": "code",
   "execution_count": 6,
   "id": "586b5af2",
   "metadata": {
    "scrolled": true
   },
   "outputs": [],
   "source": [
    "# model_original.summary() # to show all models layers"
   ]
  },
  {
   "cell_type": "code",
   "execution_count": 7,
   "id": "d3bb7d00",
   "metadata": {},
   "outputs": [],
   "source": [
    "# taking all layers except last 6 layers\n",
    "#x = model_original.layers[-2].output\n",
    "flat1 = tf.keras.layers.Flatten()(model_original.layers[-1].output)\n",
    "class1 = Dense(1024, activation='relu')(flat1)\n",
    "output = Dense(196, activation='softmax')(class1)\n",
    "#output = Dense(units=196, activation='softmax')(x)"
   ]
  },
  {
   "cell_type": "code",
   "execution_count": 8,
   "id": "a1fa82e8",
   "metadata": {},
   "outputs": [],
   "source": [
    "model = Model(inputs=model_original.input, outputs=output)"
   ]
  },
  {
   "cell_type": "code",
   "execution_count": 9,
   "id": "18b75752",
   "metadata": {},
   "outputs": [],
   "source": [
    "# freezing last n layers (n is an arbitrary number)\n",
    "# for layer in model.layers:\n",
    "#     layer.trainable = False"
   ]
  },
  {
   "cell_type": "code",
   "execution_count": 10,
   "id": "970f513f",
   "metadata": {
    "scrolled": true
   },
   "outputs": [],
   "source": [
    "# model.summary() # to show all models layers"
   ]
  },
  {
   "cell_type": "markdown",
   "id": "f3f56fd1",
   "metadata": {},
   "source": [
    "## Training Model"
   ]
  },
  {
   "cell_type": "code",
   "execution_count": 11,
   "id": "a9642e40",
   "metadata": {},
   "outputs": [],
   "source": [
    "model.compile(optimizer=Adam(learning_rate=0.0001), loss='categorical_crossentropy', metrics=['accuracy'])"
   ]
  },
  {
   "cell_type": "code",
   "execution_count": 12,
   "id": "15adca57",
   "metadata": {},
   "outputs": [],
   "source": [
    "# makeing checkpoint each epoch\n",
    "checkpoint = ModelCheckpoint(\"M_VGG1_checkpoints2/M_VGG1_checkpoint-{epoch:02d}.hdf5\", monitor='loss', verbose=0,\n",
    "    save_best_only=False, mode='auto', save_freq='epoch')"
   ]
  },
  {
   "cell_type": "code",
   "execution_count": 15,
   "id": "605b1641",
   "metadata": {},
   "outputs": [],
   "source": [
    "#from tensorflow.keras import mixed_precision\n",
    "\n",
    "#policy = mixed_precision.Policy('mixed_float16')\n",
    "#mixed_precision.set_global_policy(policy)\n",
    "#tf.keras.mixed_precision.experimental.Policy('mixed_float16')\n",
    "csv_logger = tf.keras.callbacks.CSVLogger('trainingImageNet-NoMomem-NoReg.csv')"
   ]
  },
  {
   "cell_type": "code",
   "execution_count": null,
   "id": "8ea51201",
   "metadata": {
    "scrolled": false
   },
   "outputs": [
    {
     "name": "stdout",
     "output_type": "stream",
     "text": [
      "WARNING:tensorflow:sample_weight modes were coerced from\n",
      "  ...\n",
      "    to  \n",
      "  ['...']\n",
      "WARNING:tensorflow:sample_weight modes were coerced from\n",
      "  ...\n",
      "    to  \n",
      "  ['...']\n",
      "Train for 1959 steps, validate for 663 steps\n",
      "Epoch 1/400\n",
      "1959/1959 [==============================] - 490s 250ms/step - loss: 5.3115 - accuracy: 0.0075 - val_loss: 5.2776 - val_accuracy: 0.0085\n",
      "Epoch 2/400\n",
      " 785/1959 [===========>..................] - ETA: 4:19 - loss: 5.2818 - accuracy: 0.0107"
     ]
    }
   ],
   "source": [
    "H = model.fit(x=train_batches,\n",
    "            steps_per_epoch=len(train_batches),\n",
    "            validation_data=valid_batches,\n",
    "            validation_steps=len(valid_batches),\n",
    "            epochs=400,\n",
    "            verbose=1,callbacks=[checkpoint,csv_logger]\n",
    ")\n"
   ]
  },
  {
   "cell_type": "markdown",
   "id": "54c38a91",
   "metadata": {},
   "source": [
    "## Saving Model"
   ]
  },
  {
   "cell_type": "code",
   "execution_count": null,
   "id": "b455af4b",
   "metadata": {},
   "outputs": [],
   "source": [
    "model.save(\"M_VGG16.h5\")"
   ]
  },
  {
   "cell_type": "markdown",
   "id": "1de250f8",
   "metadata": {},
   "source": [
    "## Result Visualization"
   ]
  },
  {
   "cell_type": "code",
   "execution_count": null,
   "id": "7a2bbf1e",
   "metadata": {},
   "outputs": [],
   "source": [
    "test_labels = test_batches.classes"
   ]
  },
  {
   "cell_type": "code",
   "execution_count": null,
   "id": "37426840",
   "metadata": {},
   "outputs": [],
   "source": [
    "predictions = model.predict(x=test_batches, steps=len(test_batches), verbose=0)"
   ]
  },
  {
   "cell_type": "code",
   "execution_count": null,
   "id": "98a4f5a9",
   "metadata": {},
   "outputs": [],
   "source": [
    "# def plot_confusion_matrix(cm, classes,\n",
    "#                           normalize=False,\n",
    "#                           title='Confusion matrix',\n",
    "#                           cmap=plt.cm.Blues):\n",
    "#     \"\"\"\n",
    "#     This function prints and plots the confusion matrix.\n",
    "#     Normalization can be applied by setting `normalize=True`.\n",
    "#     \"\"\"\n",
    "#     plt.rcParams[\"figure.figsize\"] = (12,12)\n",
    "#     plt.imshow(cm, interpolation='nearest', cmap=cmap)\n",
    "#     plt.title(title)\n",
    "#     plt.colorbar()\n",
    "#     tick_marks = np.arange(len(classes))\n",
    "#     plt.xticks(tick_marks, classes, rotation=45)\n",
    "#     plt.yticks(tick_marks, classes)\n",
    "\n",
    "#     if normalize:\n",
    "#         cm = cm.astype('float') / cm.sum(axis=1)[:, np.newaxis]\n",
    "#         print(\"Normalized confusion matrix\")\n",
    "#     else:\n",
    "#         print('Confusion matrix, without normalization')\n",
    "\n",
    "#     print(cm)\n",
    "\n",
    "#     thresh = cm.max() / 2.\n",
    "#     for i, j in itertools.product(range(cm.shape[0]), range(cm.shape[1])):\n",
    "#         plt.text(j, i, cm[i, j],\n",
    "#             horizontalalignment=\"center\",\n",
    "#             color=\"white\" if cm[i, j] > thresh else \"black\")"
   ]
  },
  {
   "cell_type": "code",
   "execution_count": null,
   "id": "2049092e",
   "metadata": {},
   "outputs": [],
   "source": [
    "# cm = confusion_matrix(y_true=test_labels, y_pred=predictions.argmax(axis=1))"
   ]
  },
  {
   "cell_type": "code",
   "execution_count": null,
   "id": "23b15ba4",
   "metadata": {},
   "outputs": [],
   "source": [
    "# test_batches.class_indices"
   ]
  },
  {
   "cell_type": "code",
   "execution_count": null,
   "id": "a30a22e9",
   "metadata": {},
   "outputs": [],
   "source": [
    "# cm_plot_labels = list(range(0, 196))\n",
    "# plot_confusion_matrix(cm=cm, classes=cm_plot_labels, title='Confusion Matrix')"
   ]
  },
  {
   "cell_type": "code",
   "execution_count": null,
   "id": "7e379125",
   "metadata": {},
   "outputs": [],
   "source": []
  }
 ],
 "metadata": {
  "kernelspec": {
   "display_name": "my_env",
   "language": "python",
   "name": "my_env"
  },
  "language_info": {
   "codemirror_mode": {
    "name": "ipython",
    "version": 3
   },
   "file_extension": ".py",
   "mimetype": "text/x-python",
   "name": "python",
   "nbconvert_exporter": "python",
   "pygments_lexer": "ipython3",
   "version": "3.7.11"
  }
 },
 "nbformat": 4,
 "nbformat_minor": 5
}
